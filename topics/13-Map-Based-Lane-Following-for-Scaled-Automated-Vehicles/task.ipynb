{
 "cells": [
  {
   "attachments": {},
   "cell_type": "markdown",
   "metadata": {},
   "source": [
    "# *Task* - Map-Based Lane Following for Scaled Automated Vehicles"
   ]
  },
  {
   "attachments": {},
   "cell_type": "markdown",
   "metadata": {},
   "source": [
    "## Summary\n",
    "\n",
    "Develop a methodology to follow driving lanes with a scaled automated and connected vehicle, based on localizing the vehicle on a high-resolution lane map.\n",
    "\n",
    "- [Background and Motivation](#background-and-motivation)\n",
    "- [Task](#task)\n",
    "- [Required Tools and Data](#required-tools-and-data)\n",
    "- [Hints](#hints)"
   ]
  },
  {
   "attachments": {},
   "cell_type": "markdown",
   "metadata": {},
   "source": [
    "## Background and Motivation\n",
    "\n",
    "Scaled-down robotic models of automated and connected vehicles can play an important role for research and development of real-size vehicles. Small size and cost make scaled vehicles more accessible to developers, researchers, and students, while at the same time offering insights that can be transferred to full-size vehicles.\n",
    "\n",
    "The render image below shows one such vehicle at a scale of approximately 1:5. The vehicle is equipped with multiple sensors such as a stereoscopic camera as well as with an on-vehicle computing unit.\n",
    "\n",
    "![](./assets/large-ika-racer.png)"
   ]
  },
  {
   "attachments": {},
   "cell_type": "markdown",
   "metadata": {},
   "source": [
    "## Task\n",
    "\n",
    "The task is to develop a methodology to follow driving lanes with a scaled automated and connected vehicle, based on localizing the vehicle on a high-resolution lane map.\n",
    "\n",
    "### Subtasks\n",
    "\n",
    "> ***Note:*** *The subtasks listed below do not have to be followed strictly. They serve the purpose of guiding you along your own research for this topic.*\n",
    "\n",
    "1. Familiarize yourself with starting-up the provided vehicle and accessing its sensor data streams (especially localization) via ROS.\n",
    "2. Familiarize yourself with the provided high-resolution lanelet map of the test tracks.\n",
    "3. Familiarize yourself with steering the vehicle via the available ROS interface.\n",
    "4. Implement a ROS node to extract relevant lane information from the lanelet map based on the vehicle's current position, process this information to plan a trajectory, and control the vehicle's actuation interface to safely follow the lanelet track. We suggest to start with a really simple controller based on the vehicle's deviation from the lane's center line. It is also possible to incorporate other sensor data such as camera images.\n",
    "5. Evaluate the performance of your developed methodology using the provided scaled automated vehicle:\n",
    "   - qualitatively evaluate\n",
    "     - how well the vehicle can follow straights;\n",
    "     - how well the vehicle can follow curves;\n",
    "     - ...;\n",
    "   - quantitatively evaluate\n",
    "     - the maximum speed possible in various situations;\n",
    "     - the lateral and longitudinal accelerations;\n",
    "     - ...\n",
    "6. Document your research, developed approach, and evaluations in a Jupyter notebook report. Explain and reproduce individual parts of your implemented functions with exemplary data."
   ]
  },
  {
   "attachments": {},
   "cell_type": "markdown",
   "metadata": {},
   "source": [
    "## Required Tools and Data\n",
    "\n",
    "Please contact us to set up a meeting, where we can explain how to use the scaled vehicle.\n",
    "\n",
    "### Tools\n",
    "\n",
    "- Scaled ACV Platform *(access will be granted)*\n",
    "- ROS\n",
    "- [lanelet2](http://wiki.ros.org/lanelet2)\n",
    "\n",
    "### Data\n",
    "\n",
    "- live data from on-board vehicle sensors\n",
    "- lanelet2 test track map\n",
    "\n",
    "### Other\n",
    "\n",
    "- scaled automated and connected vehicle *(will be provided)*"
   ]
  },
  {
   "attachments": {},
   "cell_type": "markdown",
   "metadata": {},
   "source": [
    "## Hints\n",
    "\n",
    "### Relevant ACDC Sections\n",
    "\n",
    "- **Vehicle Guidance**\n",
    "  - Vehicle Guidance on Guidance Level"
   ]
  }
 ],
 "metadata": {
  "interpreter": {
   "hash": "f35c820e40155ce3a3d6b6baab4aa8cb626eff9596fe63e71a966e5e0dc1513e"
  },
  "kernelspec": {
   "display_name": "Python 3.9.11 ('acdc-rp')",
   "language": "python",
   "name": "python3"
  },
  "language_info": {
   "codemirror_mode": {
    "name": "ipython",
    "version": 3
   },
   "file_extension": ".py",
   "mimetype": "text/x-python",
   "name": "python",
   "nbconvert_exporter": "python",
   "pygments_lexer": "ipython3",
   "version": "3.9.7"
  },
  "orig_nbformat": 4
 },
 "nbformat": 4,
 "nbformat_minor": 2
}
