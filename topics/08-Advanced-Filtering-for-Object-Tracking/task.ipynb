{
 "cells": [
  {
   "cell_type": "markdown",
   "metadata": {},
   "source": [
    "# *Task* - Advanced Filtering for Object Tracking"
   ]
  },
  {
   "cell_type": "markdown",
   "metadata": {},
   "source": [
    "## Summary\n",
    "\n",
    "Research and implement an advanced filtering technique with special attention to nonlinear models and noise robustness.\n",
    "\n",
    "- [Background and Motivation](#background-and-motivation)\n",
    "- [Task](#task)\n",
    "- [Required Tools and Data](#required-tools-and-data)\n",
    "- [Hints](#Hints)"
   ]
  },
  {
   "cell_type": "markdown",
   "metadata": {},
   "source": [
    "## Background and Motivation\n",
    "\n",
    "Object tracking often relies on multi-instance Kalman filters. While good tracking results can be achieved with a regular Kalman filter, it is limited to linear system models and assumptions of Gaussian noise, s.t. it often fails to accurately predict more complex systems.\n",
    "\n",
    "In real-world traffic, road users rarely behave linearly. Additionally, the output of some sensors such as radars can be also nonlinear. The assumption of Gaussian noise also breaks in the presence of arbitrarily distributed noise. More ambitious system or sensor models therefore require more advanced filtering methods."
   ]
  },
  {
   "cell_type": "markdown",
   "metadata": {},
   "source": [
    "## Task\n",
    "\n",
    "The task is to research and implement an advanced filtering technique with special attention to nonlinear models and noise robustness.\n",
    "\n",
    "### Subtasks\n",
    "\n",
    "> ***Note:*** *The subtasks listed below do not have to be followed strictly. They serve the purpose of guiding you along your own research for this topic.*\n",
    "\n",
    "1. Research at least two possible alternatives to the standard Kalman filter.\n",
    "2. Choose one of the alternatives based on an argumentation you develop. Possible criteria:\n",
    "   - accuracy\n",
    "   - model assumptions\n",
    "   - noise robustness\n",
    "   - ...\n",
    "3. Create a new ROS package with the same data interfaces as the *Tracking and Fusion* used in the ACDC Course.\n",
    "4. Implement the chosen approach in the ROS package.\n",
    "5. Adapt the provided tool for noise generation to apply different kinds of noise distributions to data.\n",
    "6. Apply different noise distributions to the ground truth input data fed into the tracking algorithms.\n",
    "7. Quantitatively and qualitatively evaluate the performance of the tracking using the standard Kalman filter against your implementation.\n",
    "8. Document your research, developed approach, and evaluations in a Jupyter notebook report. Explain and reproduce individual parts of your implemented functions with exemplary data."
   ]
  },
  {
   "attachments": {},
   "cell_type": "markdown",
   "metadata": {},
   "source": [
    "## Required Tools and Data\n",
    "\n",
    "### Tools\n",
    "\n",
    "- ROS\n",
    "- [rosbag_noise](https://github.com/ika-rwth-aachen/acdc/tree/main/catkin_workspace/src/dependencies/rosbag_noise) *(from ACDC Course)*\n",
    "\n",
    "### Data\n",
    "\n",
    "- [Bag files](https://rwth-aachen.sciebo.de/s/zRiQvCykdDBHNpF) *(from ACDC Course)*\n",
    "  - `acdc_fusion_guidance.bag` contains ground-truth object lists *(used as input for `rosbag_noise`)*\n",
    "  - `acdc_fusion_guidance_noise.bag` contains gaussian noised object lists as used in the ACDC Course"
   ]
  },
  {
   "cell_type": "markdown",
   "metadata": {},
   "source": [
    "## Hints\n",
    "\n",
    "### Relevant ACDC Sections\n",
    "\n",
    "- **Object Fusion and Tracking**\n",
    "  - Object Prediction\n",
    "  - Object Association\n",
    "  - Object Fusion"
   ]
  }
 ],
 "metadata": {
  "interpreter": {
   "hash": "f35c820e40155ce3a3d6b6baab4aa8cb626eff9596fe63e71a966e5e0dc1513e"
  },
  "kernelspec": {
   "display_name": "Python 3.9.11 ('acdc-rp')",
   "language": "python",
   "name": "python3"
  },
  "language_info": {
   "codemirror_mode": {
    "name": "ipython",
    "version": 3
   },
   "file_extension": ".py",
   "mimetype": "text/x-python",
   "name": "python",
   "nbconvert_exporter": "python",
   "pygments_lexer": "ipython3",
   "version": "3.9.7"
  },
  "orig_nbformat": 4
 },
 "nbformat": 4,
 "nbformat_minor": 2
}
