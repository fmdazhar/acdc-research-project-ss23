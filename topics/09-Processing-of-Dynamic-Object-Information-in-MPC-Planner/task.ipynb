{
 "cells": [
  {
   "cell_type": "markdown",
   "metadata": {},
   "source": [
    "# *Task* - Processing of Dynamic Object Information in MPC-Planner"
   ]
  },
  {
   "cell_type": "markdown",
   "metadata": {},
   "source": [
    "## Summary\n",
    "\n",
    "Identify and implement MPC-planner functionalities to improve trajectory planning along dynamic objects.\n",
    "\n",
    "- [Background and Motivation](#background-and-motivation)\n",
    "- [Task](#task)\n",
    "- [Required Tools and Data](#required-tools-and-data)\n",
    "- [Hints](#hints)"
   ]
  },
  {
   "cell_type": "markdown",
   "metadata": {},
   "source": [
    "## Background and Motivation\n",
    "\n",
    "The modules of vehicle guidance within the AD software stack are responsible for enabling a comfortable, efficient, and safe guidance of the vehicle. To this end, the guidance system relies on a model of the environment, derived by several perception-, V2X- and environment-interpretation modules (and potentially additional map-information).\n",
    "\n",
    "The most important task is to guide the vehicle safely through its environment, e.g., avoiding collisions with other traffic participants in the local environment. Moreover, the vehicle is obliged to comply with traffic regulations, e.g., to stop at a red traffic light.\n",
    "\n",
    "A popular approach to trajectory planning is *Model Predictive Control (MPC)* including cost functions modeling different constraints. As an example, the ACDC MPC-planner employs the following cost term in order to keep distance to the vehicle ahead:\n",
    "\n",
    "$$ j_{dyn} = \\left( w_{dyn} \\cdot \\left( \\cos \\left( \\frac{\\pi \\cdot {d_{obj}}^2}{{d_{ref,obj}}^2} \\right) + 1 \\right)\\right)^2 \\qquad \\textrm{if} \\quad d_{obj} < d_{ref} $$\n",
    "\n",
    "with Euclidean distance $d_{obj}$ to the other object, reference distance $d_{ref,obj}$, and cost factor $w_{dyn}$.\n",
    "\n",
    "This implementation has several drawbacks:\n",
    "- only the current position of the dynamic object is considered, although the dynamic object has probably moved away already once the ego vehicle reaches its current position\n",
    "- no geometries of ego vehicle or other object are considered\n",
    "- only one single other object is considered (usually the leading vehicle as the most relevant target)\n",
    "\n",
    "Below you can observe the effects of this implementation: the planned trajectory (green) only reaches up right before the current position of the other dynamic object.\n",
    "\n",
    "![](./assets/planning.png)"
   ]
  },
  {
   "cell_type": "markdown",
   "metadata": {},
   "source": [
    "## Task\n",
    "\n",
    "The task is to identify and implement MPC-planner functionalities to improve trajectory planning along dynamic objects.\n",
    "      \n",
    "### Subtasks\n",
    "\n",
    "> ***Note:*** *The subtasks listed below do not have to be followed strictly. They serve the purpose of guiding you along your own research for this topic.*\n",
    "\n",
    "1. Research literature regarding the modeling of dynamic objects within the OCP (Optimal Control Problem) in the context of automated driving.\n",
    "2. Understand ACDC Course's planner implementation using the [Control Toolbox](https://github.com/ethz-adrl/control-toolbox).\n",
    "3. Identify and implement reasonable extensions to the MPC-planner functions and cost terms to improve trajectory planning along dynamic objects (see some suggestions in *Hints*).\n",
    "4. Evaluate the resulting driving behavior:\n",
    "   1. define performance metrics to evaluate your cost function improvements (e.g., TTC);\n",
    "   2. perform simulations using your implementation and gather data as rosbags;\n",
    "   3. evaluate and discuss the results (e.g., by analyzing the rosbag data in Python using the [rosbag API](http://wiki.ros.org/ROS/Tutorials/reading%20msgs%20from%20a%20bag%20file)).\n",
    "5. Document your research, developed approach, and evaluations in a Jupyter notebook report. Explain and reproduce individual parts of your implemented functions with exemplary data.\n"
   ]
  },
  {
   "attachments": {},
   "cell_type": "markdown",
   "metadata": {},
   "source": [
    "## Required Tools and Data\n",
    "\n",
    "### Tools\n",
    "\n",
    "- ROS\n",
    "- [ACDC Motion Planning](https://github.com/ika-rwth-aachen/acdc/tree/main/catkin_workspace/src/workshops/section_4)\n",
    "- [Control Toolbox](https://github.com/ethz-adrl/control-toolbox)\n",
    "\n",
    "### Data\n",
    "\n",
    "- closed-loop simulation *(from ACDC Course; use the [vehicle_guidance.launch-File](https://github.com/ika-rwth-aachen/acdc/blob/main/catkin_workspace/src/workshops/section_4/trajectory_planner/launch/vehicle_guidance.launch))*\n",
    "- rosbag files *(from ACDC Course; see downloadable bag file from [ACDC Exercise: Object Prediction](https://github.com/ika-rwth-aachen/acdc/wiki/Section-3-Object-Prediction#introduction-to-this-workshop))*"
   ]
  },
  {
   "cell_type": "markdown",
   "metadata": {},
   "source": [
    "## Hints\n",
    "\n",
    "### Relevant ACDC Sections\n",
    "\n",
    "- **Vehicle Guidance**\n",
    "  - Vehicle Guidance on Guidance Level\n",
    "\n",
    "### Ideas for Possible Improvements\n",
    "\n",
    "> ***Note:*** *The suggestions detailed below do not have to be chosen as for implementation. They only serve as inspiration.*\n",
    "\n",
    "- movement prediction of dynamic objects (e.g. assuming constant velocity)\n",
    "- speed-dependent reference distance / reference time gap instead of distance\n",
    "- geometry approximation for collision check within cost calculation\n",
    "- consideration of multiple objects instead of only one relevant target\n",
    "- ..."
   ]
  }
 ],
 "metadata": {
  "interpreter": {
   "hash": "f35c820e40155ce3a3d6b6baab4aa8cb626eff9596fe63e71a966e5e0dc1513e"
  },
  "kernelspec": {
   "display_name": "Python 3.9.11 ('acdc-rp')",
   "language": "python",
   "name": "python3"
  },
  "language_info": {
   "codemirror_mode": {
    "name": "ipython",
    "version": 3
   },
   "file_extension": ".py",
   "mimetype": "text/x-python",
   "name": "python",
   "nbconvert_exporter": "python",
   "pygments_lexer": "ipython3",
   "version": "3.8.10"
  },
  "orig_nbformat": 4
 },
 "nbformat": 4,
 "nbformat_minor": 2
}
